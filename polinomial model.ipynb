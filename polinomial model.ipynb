{
  "nbformat": 4,
  "nbformat_minor": 0,
  "metadata": {
    "colab": {
      "name": "Untitled",
      "provenance": [],
      "authorship_tag": "ABX9TyMRMzEuVX3axF5KpYvo1rvd",
      "include_colab_link": true
    },
    "kernelspec": {
      "name": "python3",
      "display_name": "Python 3"
    }
  },
  "cells": [
    {
      "cell_type": "markdown",
      "metadata": {
        "id": "view-in-github",
        "colab_type": "text"
      },
      "source": [
        "<a href=\"https://colab.research.google.com/github/fahdleroi/basic-machine-learning-algorithms/blob/main/polinomial%20model.ipynb\" target=\"_parent\"><img src=\"https://colab.research.google.com/assets/colab-badge.svg\" alt=\"Open In Colab\"/></a>"
      ]
    },
    {
      "cell_type": "markdown",
      "metadata": {
        "id": "_ZWEMgauLITm"
      },
      "source": [
        "# **importation**"
      ]
    },
    {
      "cell_type": "code",
      "metadata": {
        "id": "C9yYu-MMKvpM"
      },
      "source": [
        "import numpy as np\r\n",
        "import matplotlib.pyplot as plt \r\n",
        "from sklearn.datasets import make_regression"
      ],
      "execution_count": null,
      "outputs": []
    },
    {
      "cell_type": "markdown",
      "metadata": {
        "id": "w4FTI5HtLPMm"
      },
      "source": [
        "# **Dataset**"
      ]
    },
    {
      "cell_type": "code",
      "metadata": {
        "colab": {
          "base_uri": "https://localhost:8080/"
        },
        "id": "9KNHOJVrLSUh",
        "outputId": "cef48852-2b9b-4497-9366-d57d4b372d2c"
      },
      "source": [
        "x,y=make_regression(n_samples=100,n_features=2,noise=10)\r\n",
        "y=y.reshape(100,1)\r\n",
        "print(np.shape(x))\r\n",
        "print(np.shape(y))"
      ],
      "execution_count": null,
      "outputs": [
        {
          "output_type": "stream",
          "text": [
            "(100, 2)\n",
            "(100, 1)\n"
          ],
          "name": "stdout"
        }
      ]
    },
    {
      "cell_type": "code",
      "metadata": {
        "colab": {
          "base_uri": "https://localhost:8080/",
          "height": 282
        },
        "id": "LSivPJorLYF7",
        "outputId": "6b96a156-262b-45dc-e382-7525f1f49226"
      },
      "source": [
        "plt.scatter(x[:,0],y)"
      ],
      "execution_count": null,
      "outputs": [
        {
          "output_type": "execute_result",
          "data": {
            "text/plain": [
              "<matplotlib.collections.PathCollection at 0x7f2e6e016d68>"
            ]
          },
          "metadata": {
            "tags": []
          },
          "execution_count": 3
        },
        {
          "output_type": "display_data",
          "data": {
            "image/png": "[encoded data removed]",
            "text/plain": [
              "<Figure size 432x288 with 1 Axes>"
            ]
          },
          "metadata": {
            "tags": [],
            "needs_background": "light"
          }
        }
      ]
    },
    {
      "cell_type": "code",
      "metadata": {
        "colab": {
          "base_uri": "https://localhost:8080/"
        },
        "id": "h8pRcUK5LbKa",
        "outputId": "d5e8c3b9-5d45-4f5a-a6f6-2af27da333bf"
      },
      "source": [
        "X=np.hstack((x,np.ones((np.shape(x)[0],1))))\r\n",
        "print(X.shape)"
      ],
      "execution_count": null,
      "outputs": [
        {
          "output_type": "stream",
          "text": [
            "(100, 3)\n"
          ],
          "name": "stdout"
        }
      ]
    },
    {
      "cell_type": "code",
      "metadata": {
        "colab": {
          "base_uri": "https://localhost:8080/"
        },
        "id": "K2E4LLIELdEk",
        "outputId": "c29b17be-4ff9-48d3-ff2b-ba43d2ae4bea"
      },
      "source": [
        "np.random.seed(0)\r\n",
        "teta =np.random.randn(3,1)\r\n",
        "teta"
      ],
      "execution_count": null,
      "outputs": [
        {
          "output_type": "execute_result",
          "data": {
            "text/plain": [
              "array([[1.76405235],\n",
              "       [0.40015721],\n",
              "       [0.97873798]])"
            ]
          },
          "metadata": {
            "tags": []
          },
          "execution_count": 5
        }
      ]
    },
    {
      "cell_type": "markdown",
      "metadata": {
        "id": "PV5HMYDSLhJA"
      },
      "source": [
        "# **Modele Polynomiale**"
      ]
    },
    {
      "cell_type": "code",
      "metadata": {
        "id": "Y0tHo84qLjeM"
      },
      "source": [
        "def model(data,teta):\r\n",
        "  return data.dot(teta)"
      ],
      "execution_count": null,
      "outputs": []
    },
    {
      "cell_type": "code",
      "metadata": {
        "colab": {
          "base_uri": "https://localhost:8080/"
        },
        "id": "bbLYUYbJLtcB",
        "outputId": "a8ef9f50-d00f-465a-986f-11ce7c424d95"
      },
      "source": [
        "x.shape\r\n",
        "plt.scatter(x[:,0],y)\r\n",
        "plt.scatter(x[:,0],model(X,teta), c='r')"
      ],
      "execution_count": null,
      "outputs": [
        {
          "output_type": "execute_result",
          "data": {
            "text/plain": [
              "<matplotlib.collections.PathCollection at 0x7f2e6dafef60>"
            ]
          },
          "metadata": {
            "tags": []
          },
          "execution_count": 7
        },
        {
          "output_type": "display_data",
          "data": {
            "image/png": "[encoded data removed]",
            "text/plain": [
              "<Figure size 432x288 with 1 Axes>"
            ]
          },
          "metadata": {
            "tags": [],
            "needs_background": "light"
          }
        }
      ]
    },
    {
      "cell_type": "markdown",
      "metadata": {
        "id": "8GKdA4tTLzwN"
      },
      "source": [
        "# **Fonction Cout : Erreur Quadratique moyenne**"
      ]
    },
    {
      "cell_type": "markdown",
      "metadata": {
        "id": "bsHNH-YoL8x4"
      },
      "source": [
        "On mesure les erreurs du modele sur le Dataset X, y en implémenter l'erreur quadratique moyenne, Mean Squared Error (MSE) .\r\n",
        "\r\n",
        "$ J(\\theta) = \\frac{1}{2m} \\sum (X.\\theta - y)^2 $\r\n",
        "\r\n",
        "Ensuite, on teste notre fonction, pour voir s'il n'y a pas de bug"
      ]
    },
    {
      "cell_type": "code",
      "metadata": {
        "id": "B89a14QZL38j"
      },
      "source": [
        "def Fonction_Cout(x,teta,y):\r\n",
        "  m=len(y)\r\n",
        "  return (1/2*m)*np.sum(((model(x,teta))-y)**2)"
      ],
      "execution_count": null,
      "outputs": []
    },
    {
      "cell_type": "markdown",
      "metadata": {
        "id": "HAd5CAyUMJ8_"
      },
      "source": [
        "# **Gradients et Descente de Gradient**"
      ]
    },
    {
      "cell_type": "markdown",
      "metadata": {
        "id": "VVAkNlzoMRVx"
      },
      "source": [
        "On implémente la formule du gradient pour la MSE\r\n",
        "\r\n",
        "$\\frac{\\partial J(\\theta) }{\\partial \\theta} = \\frac{1}{m} X^T.(X.\\theta - y)$\r\n",
        "\r\n",
        "Ensuite on utilise cette fonction dans la descente de gradient:\r\n",
        "\r\n",
        "$\\theta = \\theta - \\alpha \\frac{\\partial J(\\theta) }{\\partial \\theta}$\r\n",
        "\r\n"
      ]
    },
    {
      "cell_type": "code",
      "metadata": {
        "id": "2LZ4svhpMHSw"
      },
      "source": [
        "def Gradients(x,teta,y):\r\n",
        "  m=len(y)\r\n",
        "  return (1/m)*(x.T).dot((model(x,teta))-y)"
      ],
      "execution_count": null,
      "outputs": []
    },
    {
      "cell_type": "code",
      "metadata": {
        "id": "kmdl42vpMYN-"
      },
      "source": [
        "def Descente_Gradient(x,teta,y,rate,nb_iteration):\r\n",
        "  cost_history=np.zeros(nb_iteration)  # création d'un tableau de stockage pour enregistrer l'évolution du Cout du modele\r\n",
        "  for i in range(0,nb_iteration):\r\n",
        "    teta=teta-rate*Gradients(x,teta,y) # mise a jour du parametre theta (formule du gradient descent)\r\n",
        "    cost_history[i]=Fonction_Cout(x,teta,y) # on enregistre la valeur du Cout au tour i dans cost_history[i]\r\n",
        "  return teta,cost_history"
      ],
      "execution_count": null,
      "outputs": []
    },
    {
      "cell_type": "markdown",
      "metadata": {
        "id": "otUU-DhtMeUA"
      },
      "source": [
        "# Phase d'entrainement"
      ]
    },
    {
      "cell_type": "markdown",
      "metadata": {
        "id": "eHaSTOQvM3If"
      },
      "source": [
        "On définit un nombre d'itérations, ainsi qu'un pas d'apprentissage $\\alpha$.\r\n",
        "\r\n",
        "Une fois le modele entrainé, on observe les resultats par rapport a notre Dataset"
      ]
    },
    {
      "cell_type": "code",
      "metadata": {
        "colab": {
          "base_uri": "https://localhost:8080/",
          "height": 282
        },
        "id": "pJfbJhhUMv2O",
        "outputId": "d36d8fe9-179a-4d86-f5c6-a79967d23376"
      },
      "source": [
        "nb_iteration=1000\r\n",
        "learning_rate=0.01\r\n",
        "teta_final,cost_history=Descente_Gradient(X,teta,y,learning_rate,nb_iteration)\r\n",
        "predection=model(X,teta_final)\r\n",
        "plt.scatter(x[:,0],y)\r\n",
        "plt.scatter(x[:,0],predection,c='r')"
      ],
      "execution_count": null,
      "outputs": [
        {
          "output_type": "execute_result",
          "data": {
            "text/plain": [
              "<matplotlib.collections.PathCollection at 0x7f2e6da74da0>"
            ]
          },
          "metadata": {
            "tags": []
          },
          "execution_count": 12
        },
        {
          "output_type": "display_data",
          "data": {
            "image/png": "[encoded data removed]",
            "text/plain": [
              "<Figure size 432x288 with 1 Axes>"
            ]
          },
          "metadata": {
            "tags": [],
            "needs_background": "light"
          }
        }
      ]
    },
    {
      "cell_type": "code",
      "metadata": {
        "colab": {
          "base_uri": "https://localhost:8080/",
          "height": 282
        },
        "id": "v7urwm4HM81c",
        "outputId": "9a74e427-a63d-4ee8-da3e-74f06b33bd4d"
      },
      "source": [
        "plt.scatter(x[:,1],y)\r\n",
        "plt.scatter(x[:,1],predection,c='r')"
      ],
      "execution_count": null,
      "outputs": [
        {
          "output_type": "execute_result",
          "data": {
            "text/plain": [
              "<matplotlib.collections.PathCollection at 0x7f2e6d9dc470>"
            ]
          },
          "metadata": {
            "tags": []
          },
          "execution_count": 13
        },
        {
          "output_type": "display_data",
          "data": {
            "image/png": "[encoded data removed]",
            "text/plain": [
              "<Figure size 432x288 with 1 Axes>"
            ]
          },
          "metadata": {
            "tags": [],
            "needs_background": "light"
          }
        }
      ]
    },
    {
      "cell_type": "markdown",
      "metadata": {
        "id": "9Dei2WSjNAz6"
      },
      "source": [
        "# **Courbes d'apprentissage**"
      ]
    },
    {
      "cell_type": "markdown",
      "metadata": {
        "id": "Bzbj-3T6Nluw"
      },
      "source": [
        "Pour vérifier si notre algorithme de Descente de gradient a bien fonctionné, on observe l'évolution de la fonction coût à travers le nombre d'itérations. On cherche à obtenir une courbe qui diminue a chaque itération jusqu'à stagner à un niveau minimal (proche de zéro). Si la courbe ne suit pas ce motif, alors le pas learning_rate $\\alpha$, est peut-être trop élevé, il faut prendre un pas plus petite."
      ]
    },
    {
      "cell_type": "code",
      "metadata": {
        "colab": {
          "base_uri": "https://localhost:8080/",
          "height": 293
        },
        "id": "cC4VsDVhNSzw",
        "outputId": "cc5e5768-3142-42bf-84a4-68510b0759e5"
      },
      "source": [
        "plt.plot(range(nb_iteration),cost_history)"
      ],
      "execution_count": null,
      "outputs": [
        {
          "output_type": "execute_result",
          "data": {
            "text/plain": [
              "[<matplotlib.lines.Line2D at 0x7f2e6d9b8358>]"
            ]
          },
          "metadata": {
            "tags": []
          },
          "execution_count": 14
        },
        {
          "output_type": "display_data",
          "data": {
            "image/png": "[encoded data removed]",
            "text/plain": [
              "<Figure size 432x288 with 1 Axes>"
            ]
          },
          "metadata": {
            "tags": [],
            "needs_background": "light"
          }
        }
      ]
    }
  ]
}