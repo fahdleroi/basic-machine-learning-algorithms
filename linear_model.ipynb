{
  "nbformat": 4,
  "nbformat_minor": 0,
  "metadata": {
    "colab": {
      "name": "linear model.ipynb",
      "provenance": [],
      "authorship_tag": "ABX9TyNqoN5FtMS4E7cMvp8w66Bo",
      "include_colab_link": true
    },
    "kernelspec": {
      "name": "python3",
      "display_name": "Python 3"
    }
  },
  "cells": [
    {
      "cell_type": "markdown",
      "metadata": {
        "id": "view-in-github",
        "colab_type": "text"
      },
      "source": [
        "<a href=\"https://colab.research.google.com/github/fahdleroi/basic-machine-learning-algorithms/blob/main/linear_model.ipynb\" target=\"_parent\"><img src=\"https://colab.research.google.com/assets/colab-badge.svg\" alt=\"Open In Colab\"/></a>"
      ]
    },
    {
      "cell_type": "markdown",
      "metadata": {
        "id": "eC7IEHIKOy_6"
      },
      "source": [
        "# **importations**"
      ]
    },
    {
      "cell_type": "code",
      "metadata": {
        "id": "phIsErAzOunp"
      },
      "source": [
        "import numpy as np\r\n",
        "import matplotlib.pyplot as plt \r\n",
        "from sklearn.datasets import make_regression"
      ],
      "execution_count": 1,
      "outputs": []
    },
    {
      "cell_type": "markdown",
      "metadata": {
        "id": "dt9Ap6vVO3_G"
      },
      "source": [
        "# **Dataset**"
      ]
    },
    {
      "cell_type": "code",
      "metadata": {
        "colab": {
          "base_uri": "https://localhost:8080/"
        },
        "id": "JXBcJVI9O8Zm",
        "outputId": "aad8d997-f796-4996-8145-46f98f6e6f68"
      },
      "source": [
        "n=100\r\n",
        "x=np.linspace(0,10,n).reshape(n,1) #génération d'un liste de nombre de taille 100 comprise entre 0 et 10 \r\n",
        "y=x**2+x*np.random.randn(n,1)\r\n",
        "print(np.shape(x),np.shape(y))"
      ],
      "execution_count": 2,
      "outputs": [
        {
          "output_type": "stream",
          "text": [
            "(100, 1) (100, 1)\n"
          ],
          "name": "stdout"
        }
      ]
    },
    {
      "cell_type": "markdown",
      "metadata": {
        "id": "AJ5JhWFvPCO6"
      },
      "source": [
        "# **TrainSet/TestSet**"
      ]
    },
    {
      "cell_type": "code",
      "metadata": {
        "colab": {
          "base_uri": "https://localhost:8080/"
        },
        "id": "8pcfcoCoPKs6",
        "outputId": "c6eb64ff-df3a-4464-8e9a-95fc1bbf21d2"
      },
      "source": [
        "from sklearn.model_selection import train_test_split \r\n",
        "x_train, x_test, y_train, y_test=train_test_split(x,y,test_size=0.3)\r\n",
        "print(np.shape(x_train))"
      ],
      "execution_count": 3,
      "outputs": [
        {
          "output_type": "stream",
          "text": [
            "(70, 1)\n"
          ],
          "name": "stdout"
        }
      ]
    },
    {
      "cell_type": "code",
      "metadata": {
        "colab": {
          "base_uri": "https://localhost:8080/",
          "height": 0
        },
        "id": "Cd2jDdvCPLXK",
        "outputId": "d2334cc9-a723-4d6d-9040-718468dc1e77"
      },
      "source": [
        "plt.scatter(x_train,y_train, c='r')\r\n",
        "plt.scatter(x_test,y_test, c='b')"
      ],
      "execution_count": 4,
      "outputs": [
        {
          "output_type": "execute_result",
          "data": {
            "text/plain": [
              "<matplotlib.collections.PathCollection at 0x7f7507249630>"
            ]
          },
          "metadata": {
            "tags": []
          },
          "execution_count": 4
        },
        {
          "output_type": "display_data",
          "data": {
            "image/png": "[encoded data removed]",
            "text/plain": [
              "<Figure size 432x288 with 1 Axes>"
            ]
          },
          "metadata": {
            "tags": [],
            "needs_background": "light"
          }
        }
      ]
    },
    {
      "cell_type": "code",
      "metadata": {
        "colab": {
          "base_uri": "https://localhost:8080/"
        },
        "id": "wdGcJpw7PP5z",
        "outputId": "446d85c4-8e93-466c-a94e-1f21bd3e89fa"
      },
      "source": [
        "X=np.hstack((x_train,np.ones((np.shape(x_train)[0],1))))\r\n",
        "X=np.hstack(((x_train)**2,X))\r\n",
        "X=np.hstack(((x_train)**3,X))\r\n",
        "print(X.shape)"
      ],
      "execution_count": 5,
      "outputs": [
        {
          "output_type": "stream",
          "text": [
            "(70, 4)\n"
          ],
          "name": "stdout"
        }
      ]
    },
    {
      "cell_type": "code",
      "metadata": {
        "colab": {
          "base_uri": "https://localhost:8080/"
        },
        "id": "xxNoNL4vPSMN",
        "outputId": "45f7fe6c-d30d-4050-bc8a-78c9835f5060"
      },
      "source": [
        "np.random.seed(0)\r\n",
        "teta =np.random.randn(4,1)\r\n",
        "teta"
      ],
      "execution_count": 6,
      "outputs": [
        {
          "output_type": "execute_result",
          "data": {
            "text/plain": [
              "array([[1.76405235],\n",
              "       [0.40015721],\n",
              "       [0.97873798],\n",
              "       [2.2408932 ]])"
            ]
          },
          "metadata": {
            "tags": []
          },
          "execution_count": 6
        }
      ]
    },
    {
      "cell_type": "markdown",
      "metadata": {
        "id": "1WLfWBOAPHSE"
      },
      "source": [
        "# **Modele Linéaire**"
      ]
    },
    {
      "cell_type": "code",
      "metadata": {
        "id": "oVSKeEbuPZ92"
      },
      "source": [
        "def model(data,teta):\r\n",
        "  return data.dot(teta)"
      ],
      "execution_count": 7,
      "outputs": []
    },
    {
      "cell_type": "code",
      "metadata": {
        "colab": {
          "base_uri": "https://localhost:8080/",
          "height": 0
        },
        "id": "wru44yjyPdH4",
        "outputId": "cbbc6706-0497-427c-acd0-bd002c1d6254"
      },
      "source": [
        "plt.scatter(x_train,y_train)\r\n",
        "plt.scatter(x_train,model(X,teta),c='r')"
      ],
      "execution_count": 8,
      "outputs": [
        {
          "output_type": "execute_result",
          "data": {
            "text/plain": [
              "<matplotlib.collections.PathCollection at 0x7f7506cd11d0>"
            ]
          },
          "metadata": {
            "tags": []
          },
          "execution_count": 8
        },
        {
          "output_type": "display_data",
          "data": {
            "image/png": "[encoded data removed]",
            "text/plain": [
              "<Figure size 432x288 with 1 Axes>"
            ]
          },
          "metadata": {
            "tags": [],
            "needs_background": "light"
          }
        }
      ]
    },
    {
      "cell_type": "markdown",
      "metadata": {
        "id": "556ZG5W4PiC9"
      },
      "source": [
        "# **Fonction Cout : Erreur Quadratique moyenne**"
      ]
    },
    {
      "cell_type": "code",
      "metadata": {
        "id": "E7g-QrXgPkVa"
      },
      "source": [
        "def Fonction_Cout(x,teta,y):\r\n",
        "  m=len(y)\r\n",
        "  return (1/2*m)*np.sum(((model(x,teta))-y)**2)"
      ],
      "execution_count": 9,
      "outputs": []
    },
    {
      "cell_type": "code",
      "metadata": {
        "id": "DqbuRo3WPoR1"
      },
      "source": [
        "def Gradients(x,teta,y):\r\n",
        "  m=len(y)\r\n",
        "  return (1/m)*(x.T).dot((model(x,teta))-y)"
      ],
      "execution_count": 10,
      "outputs": []
    },
    {
      "cell_type": "markdown",
      "metadata": {
        "id": "li_jjTD9PsyY"
      },
      "source": [
        "# **Gradients et Descente de Gradient**"
      ]
    },
    {
      "cell_type": "code",
      "metadata": {
        "id": "Th_yuzByPvMm"
      },
      "source": [
        "def Descente_Gradient(x,teta,y,rate,nb_iteration):\r\n",
        "  cost_history=np.zeros(nb_iteration)  # création d'un tableau de stockage pour enregistrer l'évolution du Cout du modele\r\n",
        "  for i in range(0,nb_iteration):\r\n",
        "    teta=teta-rate*Gradients(x,teta,y) # mise a jour du parametre theta (formule du gradient descent)\r\n",
        "    cost_history[i]=Fonction_Cout(x,teta,y) # on enregistre la valeur du Cout au tour i dans cost_history[i]\r\n",
        "  return teta,cost_history"
      ],
      "execution_count": 11,
      "outputs": []
    },
    {
      "cell_type": "markdown",
      "metadata": {
        "id": "LmD-ZmMSPson"
      },
      "source": [
        "# **phase d'entrainement**"
      ]
    },
    {
      "cell_type": "code",
      "metadata": {
        "colab": {
          "base_uri": "https://localhost:8080/",
          "height": 282
        },
        "id": "iIUz9TptP06o",
        "outputId": "2ce64498-2587-45a0-ed0c-620b682410c0"
      },
      "source": [
        "nb_iteration=1000\r\n",
        "learning_rate=0.000001\r\n",
        "teta_final,cost_history=Descente_Gradient(X,teta,y_train,learning_rate,nb_iteration)\r\n",
        "predection=model(X,teta_final)\r\n",
        "plt.scatter(x_train,y_train)\r\n",
        "plt.scatter(x_train,predection,c='r')"
      ],
      "execution_count": 12,
      "outputs": [
        {
          "output_type": "execute_result",
          "data": {
            "text/plain": [
              "<matplotlib.collections.PathCollection at 0x7f750679d208>"
            ]
          },
          "metadata": {
            "tags": []
          },
          "execution_count": 12
        },
        {
          "output_type": "display_data",
          "data": {
            "image/png": "[encoded data removed]",
            "text/plain": [
              "<Figure size 432x288 with 1 Axes>"
            ]
          },
          "metadata": {
            "tags": [],
            "needs_background": "light"
          }
        }
      ]
    },
    {
      "cell_type": "code",
      "metadata": {
        "id": "7sAWz3O1P74V"
      },
      "source": [
        "def cof_determination(y,pred):\r\n",
        "  a=((y-pred)**2).sum()\r\n",
        "  b=((y-y.mean())**2).sum()\r\n",
        "  return 1-a/b"
      ],
      "execution_count": 13,
      "outputs": []
    },
    {
      "cell_type": "markdown",
      "metadata": {
        "id": "579e_n05P8zR"
      },
      "source": [
        "Evaluation par l'ensmble d'entrainement"
      ]
    },
    {
      "cell_type": "code",
      "metadata": {
        "colab": {
          "base_uri": "https://localhost:8080/"
        },
        "id": "7jFKWBwyQEcO",
        "outputId": "b406d9d5-6f16-4a95-ac90-d65415088f8b"
      },
      "source": [
        "cof_determination(y_train,predection) #cof_determination par rapport à l'ensmble d'entrainement"
      ],
      "execution_count": 14,
      "outputs": [
        {
          "output_type": "execute_result",
          "data": {
            "text/plain": [
              "0.9656755854723326"
            ]
          },
          "metadata": {
            "tags": []
          },
          "execution_count": 14
        }
      ]
    },
    {
      "cell_type": "markdown",
      "metadata": {
        "id": "eych6JqSQH1R"
      },
      "source": [
        "Evaluation par l'ensmble Test"
      ]
    },
    {
      "cell_type": "code",
      "metadata": {
        "colab": {
          "base_uri": "https://localhost:8080/"
        },
        "id": "oHdqbwRJQFMA",
        "outputId": "5dc2fcd7-f5b2-4da8-8777-3c0b6cfe1b1b"
      },
      "source": [
        "XT=np.hstack((x_test,np.ones((np.shape(x_test)[0],1))))\r\n",
        "XT=np.hstack(((x_test)**2,XT))\r\n",
        "XT=np.hstack(((x_test)**3,XT))\r\n",
        "print(XT.shape)"
      ],
      "execution_count": 15,
      "outputs": [
        {
          "output_type": "stream",
          "text": [
            "(30, 4)\n"
          ],
          "name": "stdout"
        }
      ]
    },
    {
      "cell_type": "code",
      "metadata": {
        "id": "8Gf-h_v9QLBW"
      },
      "source": [
        "predection2=model(XT,teta_final)"
      ],
      "execution_count": 16,
      "outputs": []
    },
    {
      "cell_type": "code",
      "metadata": {
        "colab": {
          "base_uri": "https://localhost:8080/"
        },
        "id": "Un1cADrJQO0S",
        "outputId": "a98bca8c-d3ea-46e7-c49d-53909e848a64"
      },
      "source": [
        "cof_determination(y_test,predection2) #cof_determination par rapport à l'ensmble Test --> ca qu'il faut faire normalement !!!! si non Nous tomberons dans le problème sur apprentissage\r\n"
      ],
      "execution_count": 17,
      "outputs": [
        {
          "output_type": "execute_result",
          "data": {
            "text/plain": [
              "0.9373485970350055"
            ]
          },
          "metadata": {
            "tags": []
          },
          "execution_count": 17
        }
      ]
    }
  ]
}